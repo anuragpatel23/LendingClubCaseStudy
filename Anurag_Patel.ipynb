{
 "cells": [
  {
   "cell_type": "markdown",
   "id": "a02a64a3",
   "metadata": {},
   "source": [
    "# Lending Club Case Study"
   ]
  },
  {
   "cell_type": "code",
   "execution_count": 1,
   "id": "f229ac47",
   "metadata": {},
   "outputs": [],
   "source": [
    "import numpy as np               # importing Numpy library built in C language for the Maths operation\n",
    "import pandas as pd              # importing Pandas library build on top of numpy for huge operation on datasets\n",
    "import matplotlib.pyplot as plt  # library to plot charts\n",
    "import seaborn as sns            # library for presentatble graphical representation"
   ]
  },
  {
   "cell_type": "markdown",
   "id": "db4137d4",
   "metadata": {},
   "source": [
    "### Data Loading and understanding"
   ]
  },
  {
   "cell_type": "markdown",
   "id": "31f729f9",
   "metadata": {},
   "source": [
    "###### loading the data file "
   ]
  },
  {
   "cell_type": "code",
   "execution_count": 2,
   "id": "89e02e2d",
   "metadata": {},
   "outputs": [
    {
     "name": "stdout",
     "output_type": "stream",
     "text": [
      "<class 'pandas.core.frame.DataFrame'>\n",
      "RangeIndex: 39717 entries, 0 to 39716\n",
      "Columns: 111 entries, id to total_il_high_credit_limit\n",
      "dtypes: float64(74), int64(13), object(24)\n",
      "memory usage: 33.6+ MB\n"
     ]
    },
    {
     "name": "stderr",
     "output_type": "stream",
     "text": [
      "C:\\Users\\Anurag\\anaconda3\\lib\\site-packages\\IPython\\core\\interactiveshell.py:3165: DtypeWarning: Columns (47) have mixed types.Specify dtype option on import or set low_memory=False.\n",
      "  has_raised = await self.run_ast_nodes(code_ast.body, cell_name,\n"
     ]
    }
   ],
   "source": [
    "#Loading the data file\n",
    "loan_data = pd.read_csv(\"loan.csv\")\n",
    "\n",
    "#number of data points in the dataset\n",
    "# loan_data.dtypes\n",
    "loan_data.info()"
   ]
  },
  {
   "cell_type": "markdown",
   "id": "1a1482db",
   "metadata": {},
   "source": [
    "### Data Processing"
   ]
  },
  {
   "cell_type": "markdown",
   "id": "ab220db0",
   "metadata": {},
   "source": [
    "###### dropping the row data which has the details for the current loan users"
   ]
  },
  {
   "cell_type": "code",
   "execution_count": 3,
   "id": "5129206b",
   "metadata": {},
   "outputs": [
    {
     "name": "stdout",
     "output_type": "stream",
     "text": [
      "<class 'pandas.core.frame.DataFrame'>\n",
      "Int64Index: 38577 entries, 0 to 39716\n",
      "Columns: 111 entries, id to total_il_high_credit_limit\n",
      "dtypes: float64(74), int64(13), object(24)\n",
      "memory usage: 33.0+ MB\n"
     ]
    }
   ],
   "source": [
    "loan_data.drop(loan_data[(loan_data.loan_status==\"Current\")].index, inplace=True)\n",
    "\n",
    "loan_data.info()"
   ]
  },
  {
   "cell_type": "markdown",
   "id": "0297a7af",
   "metadata": {},
   "source": [
    "#### Dropping the columns which has either no value or NaN(NA) more than the threshold of 50%\n"
   ]
  },
  {
   "cell_type": "code",
   "execution_count": 4,
   "id": "bd966105",
   "metadata": {},
   "outputs": [
    {
     "data": {
      "text/plain": [
       "id                                0\n",
       "member_id                         0\n",
       "loan_amnt                         0\n",
       "funded_amnt                       0\n",
       "funded_amnt_inv                   0\n",
       "                              ...  \n",
       "tax_liens                        39\n",
       "tot_hi_cred_lim               38577\n",
       "total_bal_ex_mort             38577\n",
       "total_bc_limit                38577\n",
       "total_il_high_credit_limit    38577\n",
       "Length: 111, dtype: int64"
      ]
     },
     "execution_count": 4,
     "metadata": {},
     "output_type": "execute_result"
    }
   ],
   "source": [
    "loan_data.isna().sum()"
   ]
  },
  {
   "cell_type": "code",
   "execution_count": 5,
   "id": "241665b6",
   "metadata": {},
   "outputs": [
    {
     "data": {
      "text/plain": [
       "id                              0.0\n",
       "member_id                       0.0\n",
       "loan_amnt                       0.0\n",
       "funded_amnt                     0.0\n",
       "funded_amnt_inv                 0.0\n",
       "                              ...  \n",
       "tax_liens                       0.0\n",
       "tot_hi_cred_lim               100.0\n",
       "total_bal_ex_mort             100.0\n",
       "total_bc_limit                100.0\n",
       "total_il_high_credit_limit    100.0\n",
       "Length: 111, dtype: float64"
      ]
     },
     "execution_count": 5,
     "metadata": {},
     "output_type": "execute_result"
    }
   ],
   "source": [
    "threshold = round(loan_data.isnull().sum()/len(loan_data.index), 2)*100\n",
    "threshold"
   ]
  },
  {
   "cell_type": "code",
   "execution_count": 6,
   "id": "136acb4c",
   "metadata": {},
   "outputs": [],
   "source": [
    "below_threshold = loan_data.columns[100*(loan_data.isnull().sum()/len(loan_data.index)) > 30]"
   ]
  },
  {
   "cell_type": "code",
   "execution_count": 7,
   "id": "beb6cf40",
   "metadata": {},
   "outputs": [
    {
     "data": {
      "text/plain": [
       "(38577, 53)"
      ]
     },
     "execution_count": 7,
     "metadata": {},
     "output_type": "execute_result"
    }
   ],
   "source": [
    "#dropping the columns which has missing values more than the threshold\n",
    "loan_data = loan_data.drop(below_threshold, axis=1)\n",
    "loan_data.shape"
   ]
  },
  {
   "cell_type": "markdown",
   "id": "dfcc8b1c",
   "metadata": {},
   "source": [
    "###### Drop columns with less relevant values or basically which has the same value across the column"
   ]
  },
  {
   "cell_type": "code",
   "execution_count": 8,
   "id": "07f0c1fc",
   "metadata": {},
   "outputs": [],
   "source": [
    "\"\"\"\n",
    "removoing the columns which might not be of any relevance to our analysis like member_id, url, etc\n",
    "also there are columns which are having the same value in all the rows, so they also wont make any sense to our analysis\n",
    "\"\"\"\n",
    "\n",
    "loan_data.drop([\"member_id\",\"pymnt_plan\",\"emp_title\",\"url\",\"zip_code\",\"title\",\"tax_liens\",\"initial_list_status\"], inplace=True, axis=1)"
   ]
  },
  {
   "cell_type": "markdown",
   "id": "b8367a83",
   "metadata": {},
   "source": [
    "### Cleaning Data & Imputation"
   ]
  },
  {
   "cell_type": "code",
   "execution_count": 9,
   "id": "53d88044",
   "metadata": {},
   "outputs": [
    {
     "data": {
      "text/plain": [
       "id                               0\n",
       "loan_amnt                        0\n",
       "funded_amnt                      0\n",
       "funded_amnt_inv                  0\n",
       "term                             0\n",
       "int_rate                         0\n",
       "installment                      0\n",
       "grade                            0\n",
       "sub_grade                        0\n",
       "emp_length                    1033\n",
       "home_ownership                   0\n",
       "annual_inc                       0\n",
       "verification_status              0\n",
       "issue_d                          0\n",
       "loan_status                      0\n",
       "purpose                          0\n",
       "addr_state                       0\n",
       "dti                              0\n",
       "delinq_2yrs                      0\n",
       "earliest_cr_line                 0\n",
       "inq_last_6mths                   0\n",
       "open_acc                         0\n",
       "pub_rec                          0\n",
       "revol_bal                        0\n",
       "revol_util                      50\n",
       "total_acc                        0\n",
       "out_prncp                        0\n",
       "out_prncp_inv                    0\n",
       "total_pymnt                      0\n",
       "total_pymnt_inv                  0\n",
       "total_rec_prncp                  0\n",
       "total_rec_int                    0\n",
       "total_rec_late_fee               0\n",
       "recoveries                       0\n",
       "collection_recovery_fee          0\n",
       "last_pymnt_d                    71\n",
       "last_pymnt_amnt                  0\n",
       "last_credit_pull_d               2\n",
       "collections_12_mths_ex_med      56\n",
       "policy_code                      0\n",
       "application_type                 0\n",
       "acc_now_delinq                   0\n",
       "chargeoff_within_12_mths        56\n",
       "delinq_amnt                      0\n",
       "pub_rec_bankruptcies           697\n",
       "dtype: int64"
      ]
     },
     "execution_count": 9,
     "metadata": {},
     "output_type": "execute_result"
    }
   ],
   "source": [
    "loan_data.isna().sum()"
   ]
  },
  {
   "cell_type": "code",
   "execution_count": 10,
   "id": "afce3c75",
   "metadata": {},
   "outputs": [],
   "source": [
    "#emp_lenght column has 1033 missing values, filling them with O and and extracting only nenuric values from the columns\n",
    "loan_data.emp_length.fillna('0',inplace=True)\n",
    "loan_data.emp_length=loan_data.emp_length.str.extract('(\\d+)')"
   ]
  },
  {
   "cell_type": "code",
   "execution_count": 11,
   "id": "0ff726d9",
   "metadata": {},
   "outputs": [
    {
     "data": {
      "text/plain": [
       "10    8488\n",
       "1     7677\n",
       "2     4291\n",
       "3     4012\n",
       "4     3342\n",
       "5     3194\n",
       "6     2168\n",
       "7     1711\n",
       "8     1435\n",
       "9     1226\n",
       "0     1033\n",
       "Name: emp_length, dtype: int64"
      ]
     },
     "execution_count": 11,
     "metadata": {},
     "output_type": "execute_result"
    }
   ],
   "source": [
    "loan_data['emp_length'].value_counts()"
   ]
  },
  {
   "cell_type": "code",
   "execution_count": 12,
   "id": "5317d3fb",
   "metadata": {},
   "outputs": [],
   "source": [
    "#pub_rec_bankruptcies\n",
    "# This column will be used for Defaulter comparision, we have to fill blanks but 0 is already there so will use \"No_Data\" to fill blanks\n",
    "loan_data.pub_rec_bankruptcies.fillna('No_Data',inplace=True)"
   ]
  },
  {
   "cell_type": "code",
   "execution_count": 13,
   "id": "2d42f0bb",
   "metadata": {},
   "outputs": [
    {
     "data": {
      "text/plain": [
       "0.0        36238\n",
       "1.0         1637\n",
       "No_Data      697\n",
       "2.0            5\n",
       "Name: pub_rec_bankruptcies, dtype: int64"
      ]
     },
     "execution_count": 13,
     "metadata": {},
     "output_type": "execute_result"
    }
   ],
   "source": [
    "loan_data.pub_rec_bankruptcies.value_counts()"
   ]
  },
  {
   "cell_type": "code",
   "execution_count": 14,
   "id": "f913569e",
   "metadata": {},
   "outputs": [],
   "source": [
    "#removing % symbol from interest rate column\n",
    "\n",
    "loan_data[\"int_rate\"] = loan_data[\"int_rate\"].str.replace(\"%\",\"\")\n",
    "loan_data[\"revol_util\"] = loan_data[\"revol_util\"].str.replace(\"%\",\"\")"
   ]
  },
  {
   "cell_type": "markdown",
   "id": "45f98cd7",
   "metadata": {},
   "source": [
    "## EDA"
   ]
  },
  {
   "cell_type": "code",
   "execution_count": 15,
   "id": "3132e6d1",
   "metadata": {},
   "outputs": [],
   "source": [
    "#Adding a saparate column for Year and Month which loan was funded\n",
    "loan_data.issue_d = pd.to_datetime(loan_data.issue_d ,format='%b-%y')\n",
    "loan_data['Year']=loan_data['issue_d'].dt.year\n",
    "loan_data['Month']=loan_data['issue_d'].dt.month"
   ]
  },
  {
   "cell_type": "code",
   "execution_count": 16,
   "id": "c02c8e92",
   "metadata": {},
   "outputs": [
    {
     "data": {
      "text/html": [
       "<div>\n",
       "<style scoped>\n",
       "    .dataframe tbody tr th:only-of-type {\n",
       "        vertical-align: middle;\n",
       "    }\n",
       "\n",
       "    .dataframe tbody tr th {\n",
       "        vertical-align: top;\n",
       "    }\n",
       "\n",
       "    .dataframe thead th {\n",
       "        text-align: right;\n",
       "    }\n",
       "</style>\n",
       "<table border=\"1\" class=\"dataframe\">\n",
       "  <thead>\n",
       "    <tr style=\"text-align: right;\">\n",
       "      <th></th>\n",
       "      <th>id</th>\n",
       "      <th>loan_amnt</th>\n",
       "      <th>funded_amnt</th>\n",
       "      <th>funded_amnt_inv</th>\n",
       "      <th>term</th>\n",
       "      <th>int_rate</th>\n",
       "      <th>installment</th>\n",
       "      <th>grade</th>\n",
       "      <th>sub_grade</th>\n",
       "      <th>emp_length</th>\n",
       "      <th>...</th>\n",
       "      <th>last_credit_pull_d</th>\n",
       "      <th>collections_12_mths_ex_med</th>\n",
       "      <th>policy_code</th>\n",
       "      <th>application_type</th>\n",
       "      <th>acc_now_delinq</th>\n",
       "      <th>chargeoff_within_12_mths</th>\n",
       "      <th>delinq_amnt</th>\n",
       "      <th>pub_rec_bankruptcies</th>\n",
       "      <th>Year</th>\n",
       "      <th>Month</th>\n",
       "    </tr>\n",
       "  </thead>\n",
       "  <tbody>\n",
       "    <tr>\n",
       "      <th>0</th>\n",
       "      <td>1077501</td>\n",
       "      <td>5000</td>\n",
       "      <td>5000</td>\n",
       "      <td>4975.0</td>\n",
       "      <td>36 months</td>\n",
       "      <td>10.65</td>\n",
       "      <td>162.87</td>\n",
       "      <td>B</td>\n",
       "      <td>B2</td>\n",
       "      <td>10</td>\n",
       "      <td>...</td>\n",
       "      <td>May-16</td>\n",
       "      <td>0.0</td>\n",
       "      <td>1</td>\n",
       "      <td>INDIVIDUAL</td>\n",
       "      <td>0</td>\n",
       "      <td>0.0</td>\n",
       "      <td>0</td>\n",
       "      <td>0.0</td>\n",
       "      <td>2011</td>\n",
       "      <td>12</td>\n",
       "    </tr>\n",
       "    <tr>\n",
       "      <th>1</th>\n",
       "      <td>1077430</td>\n",
       "      <td>2500</td>\n",
       "      <td>2500</td>\n",
       "      <td>2500.0</td>\n",
       "      <td>60 months</td>\n",
       "      <td>15.27</td>\n",
       "      <td>59.83</td>\n",
       "      <td>C</td>\n",
       "      <td>C4</td>\n",
       "      <td>1</td>\n",
       "      <td>...</td>\n",
       "      <td>Sep-13</td>\n",
       "      <td>0.0</td>\n",
       "      <td>1</td>\n",
       "      <td>INDIVIDUAL</td>\n",
       "      <td>0</td>\n",
       "      <td>0.0</td>\n",
       "      <td>0</td>\n",
       "      <td>0.0</td>\n",
       "      <td>2011</td>\n",
       "      <td>12</td>\n",
       "    </tr>\n",
       "    <tr>\n",
       "      <th>2</th>\n",
       "      <td>1077175</td>\n",
       "      <td>2400</td>\n",
       "      <td>2400</td>\n",
       "      <td>2400.0</td>\n",
       "      <td>36 months</td>\n",
       "      <td>15.96</td>\n",
       "      <td>84.33</td>\n",
       "      <td>C</td>\n",
       "      <td>C5</td>\n",
       "      <td>10</td>\n",
       "      <td>...</td>\n",
       "      <td>May-16</td>\n",
       "      <td>0.0</td>\n",
       "      <td>1</td>\n",
       "      <td>INDIVIDUAL</td>\n",
       "      <td>0</td>\n",
       "      <td>0.0</td>\n",
       "      <td>0</td>\n",
       "      <td>0.0</td>\n",
       "      <td>2011</td>\n",
       "      <td>12</td>\n",
       "    </tr>\n",
       "    <tr>\n",
       "      <th>3</th>\n",
       "      <td>1076863</td>\n",
       "      <td>10000</td>\n",
       "      <td>10000</td>\n",
       "      <td>10000.0</td>\n",
       "      <td>36 months</td>\n",
       "      <td>13.49</td>\n",
       "      <td>339.31</td>\n",
       "      <td>C</td>\n",
       "      <td>C1</td>\n",
       "      <td>10</td>\n",
       "      <td>...</td>\n",
       "      <td>Apr-16</td>\n",
       "      <td>0.0</td>\n",
       "      <td>1</td>\n",
       "      <td>INDIVIDUAL</td>\n",
       "      <td>0</td>\n",
       "      <td>0.0</td>\n",
       "      <td>0</td>\n",
       "      <td>0.0</td>\n",
       "      <td>2011</td>\n",
       "      <td>12</td>\n",
       "    </tr>\n",
       "    <tr>\n",
       "      <th>5</th>\n",
       "      <td>1075269</td>\n",
       "      <td>5000</td>\n",
       "      <td>5000</td>\n",
       "      <td>5000.0</td>\n",
       "      <td>36 months</td>\n",
       "      <td>7.90</td>\n",
       "      <td>156.46</td>\n",
       "      <td>A</td>\n",
       "      <td>A4</td>\n",
       "      <td>3</td>\n",
       "      <td>...</td>\n",
       "      <td>Jan-16</td>\n",
       "      <td>0.0</td>\n",
       "      <td>1</td>\n",
       "      <td>INDIVIDUAL</td>\n",
       "      <td>0</td>\n",
       "      <td>0.0</td>\n",
       "      <td>0</td>\n",
       "      <td>0.0</td>\n",
       "      <td>2011</td>\n",
       "      <td>12</td>\n",
       "    </tr>\n",
       "  </tbody>\n",
       "</table>\n",
       "<p>5 rows × 47 columns</p>\n",
       "</div>"
      ],
      "text/plain": [
       "        id  loan_amnt  funded_amnt  funded_amnt_inv        term int_rate  \\\n",
       "0  1077501       5000         5000           4975.0   36 months    10.65   \n",
       "1  1077430       2500         2500           2500.0   60 months    15.27   \n",
       "2  1077175       2400         2400           2400.0   36 months    15.96   \n",
       "3  1076863      10000        10000          10000.0   36 months    13.49   \n",
       "5  1075269       5000         5000           5000.0   36 months     7.90   \n",
       "\n",
       "   installment grade sub_grade emp_length  ... last_credit_pull_d  \\\n",
       "0       162.87     B        B2         10  ...             May-16   \n",
       "1        59.83     C        C4          1  ...             Sep-13   \n",
       "2        84.33     C        C5         10  ...             May-16   \n",
       "3       339.31     C        C1         10  ...             Apr-16   \n",
       "5       156.46     A        A4          3  ...             Jan-16   \n",
       "\n",
       "   collections_12_mths_ex_med policy_code application_type acc_now_delinq  \\\n",
       "0                         0.0           1       INDIVIDUAL              0   \n",
       "1                         0.0           1       INDIVIDUAL              0   \n",
       "2                         0.0           1       INDIVIDUAL              0   \n",
       "3                         0.0           1       INDIVIDUAL              0   \n",
       "5                         0.0           1       INDIVIDUAL              0   \n",
       "\n",
       "  chargeoff_within_12_mths delinq_amnt  pub_rec_bankruptcies  Year Month  \n",
       "0                      0.0           0                   0.0  2011    12  \n",
       "1                      0.0           0                   0.0  2011    12  \n",
       "2                      0.0           0                   0.0  2011    12  \n",
       "3                      0.0           0                   0.0  2011    12  \n",
       "5                      0.0           0                   0.0  2011    12  \n",
       "\n",
       "[5 rows x 47 columns]"
      ]
     },
     "execution_count": 16,
     "metadata": {},
     "output_type": "execute_result"
    }
   ],
   "source": [
    "loan_data.head()"
   ]
  },
  {
   "cell_type": "markdown",
   "id": "9ebb3e6c",
   "metadata": {},
   "source": [
    "##### Univeriate Analysis"
   ]
  },
  {
   "cell_type": "code",
   "execution_count": 17,
   "id": "5f5d97d0",
   "metadata": {},
   "outputs": [
    {
     "data": {
      "image/png": "[encoded data removed]",
      "text/plain": [
       "<Figure size 432x288 with 1 Axes>"
      ]
     },
     "metadata": {
      "needs_background": "light"
     },
     "output_type": "display_data"
    }
   ],
   "source": [
    "#Analysing the Purpose of loan\n",
    "#find the % of purpose column and rounding up to 2 decimal places\n",
    "purpose = ((loan_data.purpose.value_counts()*100)/len(loan_data)).round(decimals = 2)\n",
    "purpose.plot.bar()\n",
    "plt.show()"
   ]
  },
  {
   "cell_type": "markdown",
   "id": "0b20650a",
   "metadata": {},
   "source": [
    "#### Top 3 reasons for taking loan"
   ]
  },
  {
   "cell_type": "code",
   "execution_count": 18,
   "id": "cfb848bb",
   "metadata": {},
   "outputs": [
    {
     "data": {
      "text/plain": [
       "debt_consolidation    46.80\n",
       "credit_card           13.03\n",
       "other                 10.02\n",
       "Name: purpose, dtype: float64"
      ]
     },
     "execution_count": 18,
     "metadata": {},
     "output_type": "execute_result"
    }
   ],
   "source": [
    "# as we see top 3 constitutes of 65% of the reasons\n",
    "purpose.head(3)"
   ]
  },
  {
   "cell_type": "code",
   "execution_count": 19,
   "id": "4db7e776",
   "metadata": {},
   "outputs": [
    {
     "data": {
      "text/plain": [
       "Fully Paid     85.413588\n",
       "Charged Off    14.586412\n",
       "Name: loan_status, dtype: float64"
      ]
     },
     "execution_count": 19,
     "metadata": {},
     "output_type": "execute_result"
    }
   ],
   "source": [
    "#Analysing Loan Status\n",
    "loan_status = (loan_data.loan_status.value_counts()*100)/len(loan_data)\n",
    "loan_status"
   ]
  },
  {
   "cell_type": "markdown",
   "id": "ecc96ff4",
   "metadata": {},
   "source": [
    "##### 85.4% of the loan is good loan and 14.5% is charged off or say bad loan"
   ]
  },
  {
   "cell_type": "code",
   "execution_count": 20,
   "id": "301123b3",
   "metadata": {},
   "outputs": [
    {
     "data": {
      "image/png": "[encoded data removed]",
      "text/plain": [
       "<Figure size 720x360 with 1 Axes>"
      ]
     },
     "metadata": {
      "needs_background": "light"
     },
     "output_type": "display_data"
    }
   ],
   "source": [
    "plt.figure(figsize=(10,5))\n",
    "sns.countplot(y=\"purpose\",data=loan_data,hue='loan_status')\n",
    "plt.show()"
   ]
  },
  {
   "cell_type": "code",
   "execution_count": 21,
   "id": "037073b6",
   "metadata": {},
   "outputs": [
    {
     "data": {
      "text/plain": [
       "count    38577.000000\n",
       "mean     11866.970365\n",
       "std       8809.856227\n",
       "min          0.000000\n",
       "25%       5513.497338\n",
       "50%       9674.048405\n",
       "75%      16136.952430\n",
       "max      58563.679930\n",
       "Name: total_pymnt, dtype: float64"
      ]
     },
     "execution_count": 21,
     "metadata": {},
     "output_type": "execute_result"
    }
   ],
   "source": [
    "#Univeriate Analysis on total payment made for the loan\n",
    "loan_data.total_pymnt.describe()"
   ]
  },
  {
   "cell_type": "code",
   "execution_count": 22,
   "id": "503801eb",
   "metadata": {},
   "outputs": [
    {
     "name": "stderr",
     "output_type": "stream",
     "text": [
      "C:\\Users\\Anurag\\anaconda3\\lib\\site-packages\\seaborn\\_decorators.py:36: FutureWarning: Pass the following variable as a keyword arg: x. From version 0.12, the only valid positional argument will be `data`, and passing other arguments without an explicit keyword will result in an error or misinterpretation.\n",
      "  warnings.warn(\n"
     ]
    },
    {
     "data": {
      "image/png": "[encoded data removed]",
      "text/plain": [
       "<Figure size 432x288 with 1 Axes>"
      ]
     },
     "metadata": {
      "needs_background": "light"
     },
     "output_type": "display_data"
    }
   ],
   "source": [
    "sns.boxplot(loan_data.total_pymnt)\n",
    "plt.show()"
   ]
  },
  {
   "cell_type": "code",
   "execution_count": 23,
   "id": "c258e8b6",
   "metadata": {},
   "outputs": [],
   "source": [
    "#Analysisng inteest rate\n",
    "# sns.boxplot(loan_data.int_rate)\n",
    "# plt.show()"
   ]
  },
  {
   "cell_type": "code",
   "execution_count": null,
   "id": "1c000c7f",
   "metadata": {},
   "outputs": [],
   "source": []
  },
  {
   "cell_type": "code",
   "execution_count": 24,
   "id": "154aafc9",
   "metadata": {},
   "outputs": [
    {
     "data": {
      "text/plain": [
       "count    38577.000000\n",
       "mean     11047.025430\n",
       "std       7348.441646\n",
       "min        500.000000\n",
       "25%       5300.000000\n",
       "50%       9600.000000\n",
       "75%      15000.000000\n",
       "max      35000.000000\n",
       "Name: loan_amnt, dtype: float64"
      ]
     },
     "execution_count": 24,
     "metadata": {},
     "output_type": "execute_result"
    }
   ],
   "source": [
    "#Analysis on Loan amount\n",
    "loan_data.loan_amnt.describe()"
   ]
  },
  {
   "cell_type": "code",
   "execution_count": 25,
   "id": "85c12c4b",
   "metadata": {},
   "outputs": [
    {
     "name": "stderr",
     "output_type": "stream",
     "text": [
      "C:\\Users\\Anurag\\anaconda3\\lib\\site-packages\\seaborn\\_decorators.py:36: FutureWarning: Pass the following variable as a keyword arg: x. From version 0.12, the only valid positional argument will be `data`, and passing other arguments without an explicit keyword will result in an error or misinterpretation.\n",
      "  warnings.warn(\n"
     ]
    },
    {
     "data": {
      "image/png": "[encoded data removed]",
      "text/plain": [
       "<Figure size 432x288 with 1 Axes>"
      ]
     },
     "metadata": {
      "needs_background": "light"
     },
     "output_type": "display_data"
    }
   ],
   "source": [
    "sns.boxplot(loan_data.loan_amnt)\n",
    "plt.show()"
   ]
  },
  {
   "cell_type": "code",
   "execution_count": 26,
   "id": "3a0d532e",
   "metadata": {},
   "outputs": [
    {
     "name": "stderr",
     "output_type": "stream",
     "text": [
      "C:\\Users\\Anurag\\anaconda3\\lib\\site-packages\\seaborn\\_decorators.py:36: FutureWarning: Pass the following variable as a keyword arg: x. From version 0.12, the only valid positional argument will be `data`, and passing other arguments without an explicit keyword will result in an error or misinterpretation.\n",
      "  warnings.warn(\n"
     ]
    },
    {
     "data": {
      "image/png": "[encoded data removed]",
      "text/plain": [
       "<Figure size 432x288 with 1 Axes>"
      ]
     },
     "metadata": {
      "needs_background": "light"
     },
     "output_type": "display_data"
    }
   ],
   "source": [
    "#Box plot of total payment\n",
    "sns.boxplot(loan_data.total_pymnt)\n",
    "plt.show()"
   ]
  },
  {
   "cell_type": "code",
   "execution_count": 27,
   "id": "980a05ee",
   "metadata": {},
   "outputs": [
    {
     "name": "stderr",
     "output_type": "stream",
     "text": [
      "C:\\Users\\Anurag\\anaconda3\\lib\\site-packages\\seaborn\\_decorators.py:36: FutureWarning: Pass the following variable as a keyword arg: x. From version 0.12, the only valid positional argument will be `data`, and passing other arguments without an explicit keyword will result in an error or misinterpretation.\n",
      "  warnings.warn(\n"
     ]
    },
    {
     "data": {
      "image/png": "[encoded data removed]",
      "text/plain": [
       "<Figure size 432x288 with 1 Axes>"
      ]
     },
     "metadata": {
      "needs_background": "light"
     },
     "output_type": "display_data"
    }
   ],
   "source": [
    "#Boxplot of Loan amount\n",
    "sns.boxplot(loan_data.loan_amnt)\n",
    "plt.show()"
   ]
  },
  {
   "cell_type": "code",
   "execution_count": 28,
   "id": "eb53004d",
   "metadata": {},
   "outputs": [
    {
     "data": {
      "text/plain": [
       "count    3.857700e+04\n",
       "mean     6.877797e+04\n",
       "std      6.421868e+04\n",
       "min      4.000000e+03\n",
       "25%      4.000000e+04\n",
       "50%      5.886800e+04\n",
       "75%      8.200000e+04\n",
       "max      6.000000e+06\n",
       "Name: annual_inc, dtype: float64"
      ]
     },
     "execution_count": 28,
     "metadata": {},
     "output_type": "execute_result"
    }
   ],
   "source": [
    "#annual income\n",
    "loan_data.annual_inc.describe()"
   ]
  },
  {
   "cell_type": "code",
   "execution_count": 29,
   "id": "47ff1ab9",
   "metadata": {},
   "outputs": [
    {
     "name": "stderr",
     "output_type": "stream",
     "text": [
      "C:\\Users\\Anurag\\anaconda3\\lib\\site-packages\\seaborn\\_decorators.py:36: FutureWarning: Pass the following variable as a keyword arg: x. From version 0.12, the only valid positional argument will be `data`, and passing other arguments without an explicit keyword will result in an error or misinterpretation.\n",
      "  warnings.warn(\n"
     ]
    },
    {
     "data": {
      "image/png": "[encoded data removed]",
      "text/plain": [
       "<Figure size 432x288 with 1 Axes>"
      ]
     },
     "metadata": {
      "needs_background": "light"
     },
     "output_type": "display_data"
    }
   ],
   "source": [
    "sns.boxplot(loan_data.annual_inc)\n",
    "plt.show()"
   ]
  },
  {
   "cell_type": "code",
   "execution_count": 30,
   "id": "80ee3981",
   "metadata": {},
   "outputs": [],
   "source": [
    "#We can clearly see couple of outliers\n",
    "loan_data = loan_data[loan_data.annual_inc < loan_data.annual_inc.quantile(0.99)]"
   ]
  },
  {
   "cell_type": "code",
   "execution_count": 31,
   "id": "8b696ee4",
   "metadata": {},
   "outputs": [
    {
     "data": {
      "text/plain": [
       "count     38191.000000\n",
       "mean      65313.610090\n",
       "std       35150.773045\n",
       "min        4000.000000\n",
       "25%       40000.000000\n",
       "50%       58000.000000\n",
       "75%       80232.000000\n",
       "max      234000.000000\n",
       "Name: annual_inc, dtype: float64"
      ]
     },
     "execution_count": 31,
     "metadata": {},
     "output_type": "execute_result"
    }
   ],
   "source": [
    "loan_data.annual_inc.describe()"
   ]
  },
  {
   "cell_type": "markdown",
   "id": "cb3b9b2e",
   "metadata": {},
   "source": [
    "##### We can see that the average salary is around 65k\n",
    "###### Most of the salaries lie between 40k to 80k"
   ]
  },
  {
   "cell_type": "code",
   "execution_count": 32,
   "id": "858dabc4",
   "metadata": {},
   "outputs": [
    {
     "name": "stderr",
     "output_type": "stream",
     "text": [
      "C:\\Users\\Anurag\\anaconda3\\lib\\site-packages\\seaborn\\distributions.py:2557: FutureWarning: `distplot` is a deprecated function and will be removed in a future version. Please adapt your code to use either `displot` (a figure-level function with similar flexibility) or `histplot` (an axes-level function for histograms).\n",
      "  warnings.warn(msg, FutureWarning)\n",
      "C:\\Users\\Anurag\\anaconda3\\lib\\site-packages\\seaborn\\distributions.py:2056: FutureWarning: The `axis` variable is no longer used and will be removed. Instead, assign variables directly to `x` or `y`.\n",
      "  warnings.warn(msg, FutureWarning)\n"
     ]
    },
    {
     "data": {
      "image/png": "[encoded data removed]",
      "text/plain": [
       "<Figure size 432x288 with 1 Axes>"
      ]
     },
     "metadata": {
      "needs_background": "light"
     },
     "output_type": "display_data"
    }
   ],
   "source": [
    "sns.distplot(loan_data.loan_amnt,rug = True)\n",
    "plt.show()"
   ]
  },
  {
   "cell_type": "markdown",
   "id": "747a0fae",
   "metadata": {},
   "source": [
    "#### Majorly the loan loans are funded between 5k to 15k but there is a huge spike for 10k loan"
   ]
  },
  {
   "cell_type": "code",
   "execution_count": 33,
   "id": "3f8931cf",
   "metadata": {},
   "outputs": [
    {
     "data": {
      "image/png": "[encoded data removed]",
      "text/plain": [
       "<Figure size 360x360 with 1 Axes>"
      ]
     },
     "metadata": {
      "needs_background": "light"
     },
     "output_type": "display_data"
    }
   ],
   "source": [
    "#Analysis on amount of loan issued year on yearr basis\n",
    "plt.figure(figsize=(5, 5))\n",
    "loan_data.groupby(['Year']).id.count().plot(kind='bar')\n",
    "plt.xlabel('Issuance Year') \n",
    "plt.ylabel('Applicants')\n",
    "plt.show()"
   ]
  },
  {
   "cell_type": "markdown",
   "id": "f52c9ad4",
   "metadata": {},
   "source": [
    "##### there is a good amount of loan request per year"
   ]
  },
  {
   "cell_type": "code",
   "execution_count": 34,
   "id": "06f3995b",
   "metadata": {},
   "outputs": [
    {
     "data": {
      "image/png": "[encoded data removed]",
      "text/plain": [
       "<Figure size 576x576 with 1 Axes>"
      ]
     },
     "metadata": {
      "needs_background": "light"
     },
     "output_type": "display_data"
    }
   ],
   "source": [
    "#Repayment term analysis\n",
    "plt.figure(figsize=(8, 8))\n",
    "sns.countplot(x=\"term\",data=loan_data,hue='loan_status')\n",
    "plt.xlabel('Loan Tenure')\n",
    "plt.ylabel('Applicants')      \n",
    "plt.show()"
   ]
  },
  {
   "cell_type": "markdown",
   "id": "9a898d2d",
   "metadata": {},
   "source": [
    "#### Here we can clearly see that there is huge risk of Charre off on a 60 months loan, where as those who have taken for 36 months have a better chance of pay off"
   ]
  },
  {
   "cell_type": "markdown",
   "id": "200d7a88",
   "metadata": {},
   "source": [
    "### Bivariate Analysis"
   ]
  },
  {
   "cell_type": "code",
   "execution_count": 35,
   "id": "117ea5da",
   "metadata": {},
   "outputs": [],
   "source": [
    "#Creating range for the Categorical Variables\n",
    "\n",
    "loan_data['Loan_amnt_range'] = pd.cut(loan_data['loan_amnt'], [0, 7000, 14000, 21000, 28000, 35000], labels=['0-7000', '7000-14000', '14000-21000', '21000-28000', '28000 +'])\n",
    "loan_data['Annual_income_range'] = pd.cut(loan_data['annual_inc'], [0, 20000, 40000, 60000, 80000,1000000], labels=['0-20000', '20000-40000', '40000-60000', '60000-80000', '80000 +'])"
   ]
  },
  {
   "cell_type": "code",
   "execution_count": 36,
   "id": "061988e8",
   "metadata": {},
   "outputs": [
    {
     "data": {
      "text/html": [
       "<div>\n",
       "<style scoped>\n",
       "    .dataframe tbody tr th:only-of-type {\n",
       "        vertical-align: middle;\n",
       "    }\n",
       "\n",
       "    .dataframe tbody tr th {\n",
       "        vertical-align: top;\n",
       "    }\n",
       "\n",
       "    .dataframe thead th {\n",
       "        text-align: right;\n",
       "    }\n",
       "</style>\n",
       "<table border=\"1\" class=\"dataframe\">\n",
       "  <thead>\n",
       "    <tr style=\"text-align: right;\">\n",
       "      <th>loan_status</th>\n",
       "      <th>Annual_income_range</th>\n",
       "      <th>Charged Off</th>\n",
       "      <th>Fully Paid</th>\n",
       "      <th>Total</th>\n",
       "      <th>Chargedoff_Proportion</th>\n",
       "    </tr>\n",
       "  </thead>\n",
       "  <tbody>\n",
       "    <tr>\n",
       "      <th>0</th>\n",
       "      <td>0-20000</td>\n",
       "      <td>237</td>\n",
       "      <td>943</td>\n",
       "      <td>1180</td>\n",
       "      <td>0.200847</td>\n",
       "    </tr>\n",
       "    <tr>\n",
       "      <th>1</th>\n",
       "      <td>20000-40000</td>\n",
       "      <td>1514</td>\n",
       "      <td>7004</td>\n",
       "      <td>8518</td>\n",
       "      <td>0.177741</td>\n",
       "    </tr>\n",
       "    <tr>\n",
       "      <th>2</th>\n",
       "      <td>40000-60000</td>\n",
       "      <td>1729</td>\n",
       "      <td>9534</td>\n",
       "      <td>11263</td>\n",
       "      <td>0.153511</td>\n",
       "    </tr>\n",
       "    <tr>\n",
       "      <th>3</th>\n",
       "      <td>60000-80000</td>\n",
       "      <td>1024</td>\n",
       "      <td>6597</td>\n",
       "      <td>7621</td>\n",
       "      <td>0.134366</td>\n",
       "    </tr>\n",
       "    <tr>\n",
       "      <th>4</th>\n",
       "      <td>80000 +</td>\n",
       "      <td>1080</td>\n",
       "      <td>8529</td>\n",
       "      <td>9609</td>\n",
       "      <td>0.112395</td>\n",
       "    </tr>\n",
       "  </tbody>\n",
       "</table>\n",
       "</div>"
      ],
      "text/plain": [
       "loan_status Annual_income_range  Charged Off  Fully Paid  Total  \\\n",
       "0                       0-20000          237         943   1180   \n",
       "1                   20000-40000         1514        7004   8518   \n",
       "2                   40000-60000         1729        9534  11263   \n",
       "3                   60000-80000         1024        6597   7621   \n",
       "4                       80000 +         1080        8529   9609   \n",
       "\n",
       "loan_status  Chargedoff_Proportion  \n",
       "0                         0.200847  \n",
       "1                         0.177741  \n",
       "2                         0.153511  \n",
       "3                         0.134366  \n",
       "4                         0.112395  "
      ]
     },
     "execution_count": 36,
     "metadata": {},
     "output_type": "execute_result"
    }
   ],
   "source": [
    "#Analysing the relation between Annual Income and Charge Off\n",
    "Annual_Income_Vs_Charge_Off = loan_data.groupby(['Annual_income_range', 'loan_status']).loan_status.count().unstack().fillna(0).reset_index()\n",
    "Annual_Income_Vs_Charge_Off['Total'] = Annual_Income_Vs_Charge_Off['Charged Off'] + Annual_Income_Vs_Charge_Off['Fully Paid'] \n",
    "Annual_Income_Vs_Charge_Off['Chargedoff_Proportion'] = Annual_Income_Vs_Charge_Off['Charged Off'] / Annual_Income_Vs_Charge_Off['Total']\n",
    "Annual_Income_Vs_Charge_Off.sort_values('Chargedoff_Proportion', ascending=False)"
   ]
  },
  {
   "cell_type": "code",
   "execution_count": 37,
   "id": "271323a6",
   "metadata": {},
   "outputs": [
    {
     "data": {
      "image/png": "[encoded data removed]",
      "text/plain": [
       "<Figure size 432x288 with 1 Axes>"
      ]
     },
     "metadata": {
      "needs_background": "light"
     },
     "output_type": "display_data"
    }
   ],
   "source": [
    "sns.barplot(x='Annual_income_range', y='Chargedoff_Proportion', data=Annual_Income_Vs_Charge_Off)\n",
    "plt.show()"
   ]
  },
  {
   "cell_type": "markdown",
   "id": "2f321d66",
   "metadata": {},
   "source": [
    "#### With this plot we can conclude that those with the higher salary bracket have a lesser chance to Default"
   ]
  },
  {
   "cell_type": "code",
   "execution_count": 38,
   "id": "c988aeef",
   "metadata": {},
   "outputs": [
    {
     "data": {
      "text/html": [
       "<div>\n",
       "<style scoped>\n",
       "    .dataframe tbody tr th:only-of-type {\n",
       "        vertical-align: middle;\n",
       "    }\n",
       "\n",
       "    .dataframe tbody tr th {\n",
       "        vertical-align: top;\n",
       "    }\n",
       "\n",
       "    .dataframe thead th {\n",
       "        text-align: right;\n",
       "    }\n",
       "</style>\n",
       "<table border=\"1\" class=\"dataframe\">\n",
       "  <thead>\n",
       "    <tr style=\"text-align: right;\">\n",
       "      <th>loan_status</th>\n",
       "      <th>purpose</th>\n",
       "      <th>Charged Off</th>\n",
       "      <th>Fully Paid</th>\n",
       "      <th>Total</th>\n",
       "      <th>Chargedoff_Proportion</th>\n",
       "    </tr>\n",
       "  </thead>\n",
       "  <tbody>\n",
       "    <tr>\n",
       "      <th>11</th>\n",
       "      <td>small_business</td>\n",
       "      <td>472</td>\n",
       "      <td>1251</td>\n",
       "      <td>1723</td>\n",
       "      <td>0.273941</td>\n",
       "    </tr>\n",
       "    <tr>\n",
       "      <th>10</th>\n",
       "      <td>renewable_energy</td>\n",
       "      <td>19</td>\n",
       "      <td>81</td>\n",
       "      <td>100</td>\n",
       "      <td>0.190000</td>\n",
       "    </tr>\n",
       "    <tr>\n",
       "      <th>3</th>\n",
       "      <td>educational</td>\n",
       "      <td>55</td>\n",
       "      <td>268</td>\n",
       "      <td>323</td>\n",
       "      <td>0.170279</td>\n",
       "    </tr>\n",
       "    <tr>\n",
       "      <th>9</th>\n",
       "      <td>other</td>\n",
       "      <td>629</td>\n",
       "      <td>3202</td>\n",
       "      <td>3831</td>\n",
       "      <td>0.164187</td>\n",
       "    </tr>\n",
       "    <tr>\n",
       "      <th>5</th>\n",
       "      <td>house</td>\n",
       "      <td>58</td>\n",
       "      <td>299</td>\n",
       "      <td>357</td>\n",
       "      <td>0.162465</td>\n",
       "    </tr>\n",
       "    <tr>\n",
       "      <th>8</th>\n",
       "      <td>moving</td>\n",
       "      <td>91</td>\n",
       "      <td>479</td>\n",
       "      <td>570</td>\n",
       "      <td>0.159649</td>\n",
       "    </tr>\n",
       "    <tr>\n",
       "      <th>7</th>\n",
       "      <td>medical</td>\n",
       "      <td>106</td>\n",
       "      <td>568</td>\n",
       "      <td>674</td>\n",
       "      <td>0.157270</td>\n",
       "    </tr>\n",
       "    <tr>\n",
       "      <th>2</th>\n",
       "      <td>debt_consolidation</td>\n",
       "      <td>2752</td>\n",
       "      <td>15165</td>\n",
       "      <td>17917</td>\n",
       "      <td>0.153597</td>\n",
       "    </tr>\n",
       "    <tr>\n",
       "      <th>12</th>\n",
       "      <td>vacation</td>\n",
       "      <td>53</td>\n",
       "      <td>322</td>\n",
       "      <td>375</td>\n",
       "      <td>0.141333</td>\n",
       "    </tr>\n",
       "    <tr>\n",
       "      <th>4</th>\n",
       "      <td>home_improvement</td>\n",
       "      <td>338</td>\n",
       "      <td>2459</td>\n",
       "      <td>2797</td>\n",
       "      <td>0.120844</td>\n",
       "    </tr>\n",
       "    <tr>\n",
       "      <th>1</th>\n",
       "      <td>credit_card</td>\n",
       "      <td>537</td>\n",
       "      <td>4450</td>\n",
       "      <td>4987</td>\n",
       "      <td>0.107680</td>\n",
       "    </tr>\n",
       "    <tr>\n",
       "      <th>0</th>\n",
       "      <td>car</td>\n",
       "      <td>160</td>\n",
       "      <td>1331</td>\n",
       "      <td>1491</td>\n",
       "      <td>0.107311</td>\n",
       "    </tr>\n",
       "    <tr>\n",
       "      <th>6</th>\n",
       "      <td>major_purchase</td>\n",
       "      <td>220</td>\n",
       "      <td>1909</td>\n",
       "      <td>2129</td>\n",
       "      <td>0.103335</td>\n",
       "    </tr>\n",
       "    <tr>\n",
       "      <th>13</th>\n",
       "      <td>wedding</td>\n",
       "      <td>94</td>\n",
       "      <td>823</td>\n",
       "      <td>917</td>\n",
       "      <td>0.102508</td>\n",
       "    </tr>\n",
       "  </tbody>\n",
       "</table>\n",
       "</div>"
      ],
      "text/plain": [
       "loan_status             purpose  Charged Off  Fully Paid  Total  \\\n",
       "11               small_business          472        1251   1723   \n",
       "10             renewable_energy           19          81    100   \n",
       "3                   educational           55         268    323   \n",
       "9                         other          629        3202   3831   \n",
       "5                         house           58         299    357   \n",
       "8                        moving           91         479    570   \n",
       "7                       medical          106         568    674   \n",
       "2            debt_consolidation         2752       15165  17917   \n",
       "12                     vacation           53         322    375   \n",
       "4              home_improvement          338        2459   2797   \n",
       "1                   credit_card          537        4450   4987   \n",
       "0                           car          160        1331   1491   \n",
       "6                major_purchase          220        1909   2129   \n",
       "13                      wedding           94         823    917   \n",
       "\n",
       "loan_status  Chargedoff_Proportion  \n",
       "11                        0.273941  \n",
       "10                        0.190000  \n",
       "3                         0.170279  \n",
       "9                         0.164187  \n",
       "5                         0.162465  \n",
       "8                         0.159649  \n",
       "7                         0.157270  \n",
       "2                         0.153597  \n",
       "12                        0.141333  \n",
       "4                         0.120844  \n",
       "1                         0.107680  \n",
       "0                         0.107311  \n",
       "6                         0.103335  \n",
       "13                        0.102508  "
      ]
     },
     "execution_count": 38,
     "metadata": {},
     "output_type": "execute_result"
    }
   ],
   "source": [
    "#Analysing the relation between Purpose of loan and Loan amount\n",
    "Purpose_Vs_Charge_Off=loan_data.groupby(['purpose', 'loan_status']).loan_status.count().unstack().fillna(0).reset_index()\n",
    "Purpose_Vs_Charge_Off['Total'] =Purpose_Vs_Charge_Off['Charged Off']+Purpose_Vs_Charge_Off['Fully Paid'] \n",
    "Purpose_Vs_Charge_Off['Chargedoff_Proportion']=Purpose_Vs_Charge_Off['Charged Off']/Purpose_Vs_Charge_Off['Total']\n",
    "Purpose_Vs_Charge_Off.sort_values('Chargedoff_Proportion',ascending=False)"
   ]
  },
  {
   "cell_type": "code",
   "execution_count": 39,
   "id": "f7fa1e6d",
   "metadata": {},
   "outputs": [
    {
     "data": {
      "image/png": "[encoded data removed]",
      "text/plain": [
       "<Figure size 432x288 with 1 Axes>"
      ]
     },
     "metadata": {
      "needs_background": "light"
     },
     "output_type": "display_data"
    }
   ],
   "source": [
    "#\n",
    "sns.barplot(y='purpose' ,x='Chargedoff_Proportion' ,data=Purpose_Vs_Charge_Off)\n",
    "# plt.yticks(rotation=45)\n",
    "plt.show()"
   ]
  },
  {
   "cell_type": "markdown",
   "id": "836421a2",
   "metadata": {},
   "source": [
    "#### Above plot clearly states that the small bussiness have the high charge off rate, so there are high chances of a \"Small Business\" doing a default\n",
    "##### Where as loan taken for \"Wedding\" has the lease charge off, so it is having a very high chances of getting paid"
   ]
  },
  {
   "cell_type": "code",
   "execution_count": 40,
   "id": "94df3356",
   "metadata": {},
   "outputs": [
    {
     "data": {
      "text/html": [
       "<div>\n",
       "<style scoped>\n",
       "    .dataframe tbody tr th:only-of-type {\n",
       "        vertical-align: middle;\n",
       "    }\n",
       "\n",
       "    .dataframe tbody tr th {\n",
       "        vertical-align: top;\n",
       "    }\n",
       "\n",
       "    .dataframe thead th {\n",
       "        text-align: right;\n",
       "    }\n",
       "</style>\n",
       "<table border=\"1\" class=\"dataframe\">\n",
       "  <thead>\n",
       "    <tr style=\"text-align: right;\">\n",
       "      <th>loan_status</th>\n",
       "      <th>emp_length</th>\n",
       "      <th>Charged Off</th>\n",
       "      <th>Fully Paid</th>\n",
       "      <th>Total</th>\n",
       "      <th>Chargedoff_Proportion</th>\n",
       "    </tr>\n",
       "  </thead>\n",
       "  <tbody>\n",
       "    <tr>\n",
       "      <th>0</th>\n",
       "      <td>0</td>\n",
       "      <td>227</td>\n",
       "      <td>801</td>\n",
       "      <td>1028</td>\n",
       "      <td>0.220817</td>\n",
       "    </tr>\n",
       "    <tr>\n",
       "      <th>2</th>\n",
       "      <td>10</td>\n",
       "      <td>1316</td>\n",
       "      <td>7038</td>\n",
       "      <td>8354</td>\n",
       "      <td>0.157529</td>\n",
       "    </tr>\n",
       "    <tr>\n",
       "      <th>8</th>\n",
       "      <td>7</td>\n",
       "      <td>262</td>\n",
       "      <td>1435</td>\n",
       "      <td>1697</td>\n",
       "      <td>0.154390</td>\n",
       "    </tr>\n",
       "    <tr>\n",
       "      <th>6</th>\n",
       "      <td>5</td>\n",
       "      <td>456</td>\n",
       "      <td>2712</td>\n",
       "      <td>3168</td>\n",
       "      <td>0.143939</td>\n",
       "    </tr>\n",
       "    <tr>\n",
       "      <th>9</th>\n",
       "      <td>8</td>\n",
       "      <td>203</td>\n",
       "      <td>1216</td>\n",
       "      <td>1419</td>\n",
       "      <td>0.143058</td>\n",
       "    </tr>\n",
       "    <tr>\n",
       "      <th>1</th>\n",
       "      <td>1</td>\n",
       "      <td>1090</td>\n",
       "      <td>6532</td>\n",
       "      <td>7622</td>\n",
       "      <td>0.143007</td>\n",
       "    </tr>\n",
       "    <tr>\n",
       "      <th>7</th>\n",
       "      <td>6</td>\n",
       "      <td>305</td>\n",
       "      <td>1846</td>\n",
       "      <td>2151</td>\n",
       "      <td>0.141795</td>\n",
       "    </tr>\n",
       "    <tr>\n",
       "      <th>4</th>\n",
       "      <td>3</td>\n",
       "      <td>551</td>\n",
       "      <td>3426</td>\n",
       "      <td>3977</td>\n",
       "      <td>0.138547</td>\n",
       "    </tr>\n",
       "    <tr>\n",
       "      <th>5</th>\n",
       "      <td>4</td>\n",
       "      <td>456</td>\n",
       "      <td>2859</td>\n",
       "      <td>3315</td>\n",
       "      <td>0.137557</td>\n",
       "    </tr>\n",
       "    <tr>\n",
       "      <th>3</th>\n",
       "      <td>2</td>\n",
       "      <td>561</td>\n",
       "      <td>3684</td>\n",
       "      <td>4245</td>\n",
       "      <td>0.132155</td>\n",
       "    </tr>\n",
       "    <tr>\n",
       "      <th>10</th>\n",
       "      <td>9</td>\n",
       "      <td>157</td>\n",
       "      <td>1058</td>\n",
       "      <td>1215</td>\n",
       "      <td>0.129218</td>\n",
       "    </tr>\n",
       "  </tbody>\n",
       "</table>\n",
       "</div>"
      ],
      "text/plain": [
       "loan_status emp_length  Charged Off  Fully Paid  Total  Chargedoff_Proportion\n",
       "0                    0          227         801   1028               0.220817\n",
       "2                   10         1316        7038   8354               0.157529\n",
       "8                    7          262        1435   1697               0.154390\n",
       "6                    5          456        2712   3168               0.143939\n",
       "9                    8          203        1216   1419               0.143058\n",
       "1                    1         1090        6532   7622               0.143007\n",
       "7                    6          305        1846   2151               0.141795\n",
       "4                    3          551        3426   3977               0.138547\n",
       "5                    4          456        2859   3315               0.137557\n",
       "3                    2          561        3684   4245               0.132155\n",
       "10                   9          157        1058   1215               0.129218"
      ]
     },
     "execution_count": 40,
     "metadata": {},
     "output_type": "execute_result"
    }
   ],
   "source": [
    "#Analysing Epmloyment length with Charge off\n",
    "\n",
    "Employ_Len_Vs_Charge_Off = loan_data.groupby(['emp_length', 'loan_status']).loan_status.count().unstack().fillna(0).reset_index()\n",
    "Employ_Len_Vs_Charge_Off['Total'] = Employ_Len_Vs_Charge_Off['Charged Off']+Employ_Len_Vs_Charge_Off['Fully Paid'] \n",
    "Employ_Len_Vs_Charge_Off['Chargedoff_Proportion'] = Employ_Len_Vs_Charge_Off['Charged Off']/Employ_Len_Vs_Charge_Off['Total']\n",
    "Employ_Len_Vs_Charge_Off.sort_values('Chargedoff_Proportion', ascending=False)"
   ]
  },
  {
   "cell_type": "code",
   "execution_count": 41,
   "id": "06b216e5",
   "metadata": {},
   "outputs": [
    {
     "data": {
      "image/png": "[encoded data removed]",
      "text/plain": [
       "<Figure size 432x288 with 1 Axes>"
      ]
     },
     "metadata": {
      "needs_background": "light"
     },
     "output_type": "display_data"
    }
   ],
   "source": [
    "sns.barplot(x='emp_length', y='Chargedoff_Proportion' ,data=Employ_Len_Vs_Charge_Off)\n",
    "plt.show()"
   ]
  },
  {
   "cell_type": "code",
   "execution_count": 42,
   "id": "5083f7b8",
   "metadata": {},
   "outputs": [
    {
     "data": {
      "text/html": [
       "<div>\n",
       "<style scoped>\n",
       "    .dataframe tbody tr th:only-of-type {\n",
       "        vertical-align: middle;\n",
       "    }\n",
       "\n",
       "    .dataframe tbody tr th {\n",
       "        vertical-align: top;\n",
       "    }\n",
       "\n",
       "    .dataframe thead th {\n",
       "        text-align: right;\n",
       "    }\n",
       "</style>\n",
       "<table border=\"1\" class=\"dataframe\">\n",
       "  <thead>\n",
       "    <tr style=\"text-align: right;\">\n",
       "      <th>loan_status</th>\n",
       "      <th>pub_rec_bankruptcies</th>\n",
       "      <th>Charged Off</th>\n",
       "      <th>Fully Paid</th>\n",
       "      <th>Total</th>\n",
       "      <th>Chargedoff_Proportion</th>\n",
       "    </tr>\n",
       "  </thead>\n",
       "  <tbody>\n",
       "    <tr>\n",
       "      <th>2</th>\n",
       "      <td>2.0</td>\n",
       "      <td>2</td>\n",
       "      <td>3</td>\n",
       "      <td>5</td>\n",
       "      <td>0.400000</td>\n",
       "    </tr>\n",
       "    <tr>\n",
       "      <th>1</th>\n",
       "      <td>1.0</td>\n",
       "      <td>365</td>\n",
       "      <td>1268</td>\n",
       "      <td>1633</td>\n",
       "      <td>0.223515</td>\n",
       "    </tr>\n",
       "    <tr>\n",
       "      <th>3</th>\n",
       "      <td>No_Data</td>\n",
       "      <td>116</td>\n",
       "      <td>572</td>\n",
       "      <td>688</td>\n",
       "      <td>0.168605</td>\n",
       "    </tr>\n",
       "    <tr>\n",
       "      <th>0</th>\n",
       "      <td>0.0</td>\n",
       "      <td>5101</td>\n",
       "      <td>30764</td>\n",
       "      <td>35865</td>\n",
       "      <td>0.142228</td>\n",
       "    </tr>\n",
       "  </tbody>\n",
       "</table>\n",
       "</div>"
      ],
      "text/plain": [
       "loan_status pub_rec_bankruptcies  Charged Off  Fully Paid  Total  \\\n",
       "2                            2.0            2           3      5   \n",
       "1                            1.0          365        1268   1633   \n",
       "3                        No_Data          116         572    688   \n",
       "0                            0.0         5101       30764  35865   \n",
       "\n",
       "loan_status  Chargedoff_Proportion  \n",
       "2                         0.400000  \n",
       "1                         0.223515  \n",
       "3                         0.168605  \n",
       "0                         0.142228  "
      ]
     },
     "execution_count": 42,
     "metadata": {},
     "output_type": "execute_result"
    }
   ],
   "source": [
    "#Analysing Bankruptcy data\n",
    "Bankruptcy_data = loan_data.groupby(['pub_rec_bankruptcies', 'loan_status']).loan_status.count().unstack().fillna(0).reset_index()\n",
    "Bankruptcy_data['Total']=Bankruptcy_data['Charged Off']+Bankruptcy_data['Fully Paid'] \n",
    "Bankruptcy_data['Chargedoff_Proportion'] =Bankruptcy_data['Charged Off']/Bankruptcy_data['Total']\n",
    "Bankruptcy_data.sort_values('Chargedoff_Proportion', ascending=False)"
   ]
  },
  {
   "cell_type": "code",
   "execution_count": 43,
   "id": "b5186936",
   "metadata": {},
   "outputs": [
    {
     "data": {
      "image/png": "[encoded data removed]",
      "text/plain": [
       "<Figure size 432x288 with 1 Axes>"
      ]
     },
     "metadata": {
      "needs_background": "light"
     },
     "output_type": "display_data"
    }
   ],
   "source": [
    "sns.barplot(x='pub_rec_bankruptcies',y='Chargedoff_Proportion', data=Bankruptcy_data)\n",
    "plt.show()"
   ]
  },
  {
   "cell_type": "markdown",
   "id": "18308a46",
   "metadata": {},
   "source": [
    "##### Those who are unepmloyeed or have the numbers of years of experience less than 1 year have a very high chance of Default"
   ]
  },
  {
   "cell_type": "code",
   "execution_count": 44,
   "id": "8858361a",
   "metadata": {},
   "outputs": [
    {
     "data": {
      "text/html": [
       "<div>\n",
       "<style scoped>\n",
       "    .dataframe tbody tr th:only-of-type {\n",
       "        vertical-align: middle;\n",
       "    }\n",
       "\n",
       "    .dataframe tbody tr th {\n",
       "        vertical-align: top;\n",
       "    }\n",
       "\n",
       "    .dataframe thead th {\n",
       "        text-align: right;\n",
       "    }\n",
       "</style>\n",
       "<table border=\"1\" class=\"dataframe\">\n",
       "  <thead>\n",
       "    <tr style=\"text-align: right;\">\n",
       "      <th>loan_status</th>\n",
       "      <th>addr_state</th>\n",
       "      <th>Charged Off</th>\n",
       "      <th>Fully Paid</th>\n",
       "      <th>Total</th>\n",
       "      <th>Chargedoff_Proportion</th>\n",
       "    </tr>\n",
       "  </thead>\n",
       "  <tbody>\n",
       "    <tr>\n",
       "      <th>28</th>\n",
       "      <td>NE</td>\n",
       "      <td>3.0</td>\n",
       "      <td>2.0</td>\n",
       "      <td>5.0</td>\n",
       "      <td>0.600000</td>\n",
       "    </tr>\n",
       "    <tr>\n",
       "      <th>32</th>\n",
       "      <td>NV</td>\n",
       "      <td>107.0</td>\n",
       "      <td>368.0</td>\n",
       "      <td>475.0</td>\n",
       "      <td>0.225263</td>\n",
       "    </tr>\n",
       "    <tr>\n",
       "      <th>40</th>\n",
       "      <td>SD</td>\n",
       "      <td>12.0</td>\n",
       "      <td>50.0</td>\n",
       "      <td>62.0</td>\n",
       "      <td>0.193548</td>\n",
       "    </tr>\n",
       "    <tr>\n",
       "      <th>0</th>\n",
       "      <td>AK</td>\n",
       "      <td>14.0</td>\n",
       "      <td>63.0</td>\n",
       "      <td>77.0</td>\n",
       "      <td>0.181818</td>\n",
       "    </tr>\n",
       "    <tr>\n",
       "      <th>9</th>\n",
       "      <td>FL</td>\n",
       "      <td>497.0</td>\n",
       "      <td>2252.0</td>\n",
       "      <td>2749.0</td>\n",
       "      <td>0.180793</td>\n",
       "    </tr>\n",
       "    <tr>\n",
       "      <th>24</th>\n",
       "      <td>MO</td>\n",
       "      <td>114.0</td>\n",
       "      <td>551.0</td>\n",
       "      <td>665.0</td>\n",
       "      <td>0.171429</td>\n",
       "    </tr>\n",
       "    <tr>\n",
       "      <th>11</th>\n",
       "      <td>HI</td>\n",
       "      <td>28.0</td>\n",
       "      <td>138.0</td>\n",
       "      <td>166.0</td>\n",
       "      <td>0.168675</td>\n",
       "    </tr>\n",
       "    <tr>\n",
       "      <th>31</th>\n",
       "      <td>NM</td>\n",
       "      <td>30.0</td>\n",
       "      <td>149.0</td>\n",
       "      <td>179.0</td>\n",
       "      <td>0.167598</td>\n",
       "    </tr>\n",
       "    <tr>\n",
       "      <th>13</th>\n",
       "      <td>ID</td>\n",
       "      <td>1.0</td>\n",
       "      <td>5.0</td>\n",
       "      <td>6.0</td>\n",
       "      <td>0.166667</td>\n",
       "    </tr>\n",
       "    <tr>\n",
       "      <th>36</th>\n",
       "      <td>OR</td>\n",
       "      <td>71.0</td>\n",
       "      <td>364.0</td>\n",
       "      <td>435.0</td>\n",
       "      <td>0.163218</td>\n",
       "    </tr>\n",
       "    <tr>\n",
       "      <th>4</th>\n",
       "      <td>CA</td>\n",
       "      <td>1116.0</td>\n",
       "      <td>5766.0</td>\n",
       "      <td>6882.0</td>\n",
       "      <td>0.162162</td>\n",
       "    </tr>\n",
       "    <tr>\n",
       "      <th>20</th>\n",
       "      <td>MD</td>\n",
       "      <td>161.0</td>\n",
       "      <td>849.0</td>\n",
       "      <td>1010.0</td>\n",
       "      <td>0.159406</td>\n",
       "    </tr>\n",
       "    <tr>\n",
       "      <th>10</th>\n",
       "      <td>GA</td>\n",
       "      <td>215.0</td>\n",
       "      <td>1134.0</td>\n",
       "      <td>1349.0</td>\n",
       "      <td>0.159377</td>\n",
       "    </tr>\n",
       "    <tr>\n",
       "      <th>43</th>\n",
       "      <td>UT</td>\n",
       "      <td>40.0</td>\n",
       "      <td>211.0</td>\n",
       "      <td>251.0</td>\n",
       "      <td>0.159363</td>\n",
       "    </tr>\n",
       "    <tr>\n",
       "      <th>30</th>\n",
       "      <td>NJ</td>\n",
       "      <td>277.0</td>\n",
       "      <td>1490.0</td>\n",
       "      <td>1767.0</td>\n",
       "      <td>0.156763</td>\n",
       "    </tr>\n",
       "    <tr>\n",
       "      <th>46</th>\n",
       "      <td>WA</td>\n",
       "      <td>127.0</td>\n",
       "      <td>684.0</td>\n",
       "      <td>811.0</td>\n",
       "      <td>0.156597</td>\n",
       "    </tr>\n",
       "    <tr>\n",
       "      <th>27</th>\n",
       "      <td>NC</td>\n",
       "      <td>114.0</td>\n",
       "      <td>629.0</td>\n",
       "      <td>743.0</td>\n",
       "      <td>0.153432</td>\n",
       "    </tr>\n",
       "    <tr>\n",
       "      <th>29</th>\n",
       "      <td>NH</td>\n",
       "      <td>25.0</td>\n",
       "      <td>139.0</td>\n",
       "      <td>164.0</td>\n",
       "      <td>0.152439</td>\n",
       "    </tr>\n",
       "    <tr>\n",
       "      <th>22</th>\n",
       "      <td>MI</td>\n",
       "      <td>102.0</td>\n",
       "      <td>596.0</td>\n",
       "      <td>698.0</td>\n",
       "      <td>0.146132</td>\n",
       "    </tr>\n",
       "    <tr>\n",
       "      <th>39</th>\n",
       "      <td>SC</td>\n",
       "      <td>66.0</td>\n",
       "      <td>389.0</td>\n",
       "      <td>455.0</td>\n",
       "      <td>0.145055</td>\n",
       "    </tr>\n",
       "    <tr>\n",
       "      <th>17</th>\n",
       "      <td>KY</td>\n",
       "      <td>45.0</td>\n",
       "      <td>266.0</td>\n",
       "      <td>311.0</td>\n",
       "      <td>0.144695</td>\n",
       "    </tr>\n",
       "    <tr>\n",
       "      <th>3</th>\n",
       "      <td>AZ</td>\n",
       "      <td>121.0</td>\n",
       "      <td>718.0</td>\n",
       "      <td>839.0</td>\n",
       "      <td>0.144219</td>\n",
       "    </tr>\n",
       "    <tr>\n",
       "      <th>47</th>\n",
       "      <td>WI</td>\n",
       "      <td>63.0</td>\n",
       "      <td>376.0</td>\n",
       "      <td>439.0</td>\n",
       "      <td>0.143508</td>\n",
       "    </tr>\n",
       "    <tr>\n",
       "      <th>35</th>\n",
       "      <td>OK</td>\n",
       "      <td>40.0</td>\n",
       "      <td>246.0</td>\n",
       "      <td>286.0</td>\n",
       "      <td>0.139860</td>\n",
       "    </tr>\n",
       "    <tr>\n",
       "      <th>14</th>\n",
       "      <td>IL</td>\n",
       "      <td>196.0</td>\n",
       "      <td>1262.0</td>\n",
       "      <td>1458.0</td>\n",
       "      <td>0.134431</td>\n",
       "    </tr>\n",
       "    <tr>\n",
       "      <th>23</th>\n",
       "      <td>MN</td>\n",
       "      <td>81.0</td>\n",
       "      <td>522.0</td>\n",
       "      <td>603.0</td>\n",
       "      <td>0.134328</td>\n",
       "    </tr>\n",
       "    <tr>\n",
       "      <th>33</th>\n",
       "      <td>NY</td>\n",
       "      <td>488.0</td>\n",
       "      <td>3156.0</td>\n",
       "      <td>3644.0</td>\n",
       "      <td>0.133919</td>\n",
       "    </tr>\n",
       "    <tr>\n",
       "      <th>26</th>\n",
       "      <td>MT</td>\n",
       "      <td>11.0</td>\n",
       "      <td>72.0</td>\n",
       "      <td>83.0</td>\n",
       "      <td>0.132530</td>\n",
       "    </tr>\n",
       "    <tr>\n",
       "      <th>6</th>\n",
       "      <td>CT</td>\n",
       "      <td>94.0</td>\n",
       "      <td>618.0</td>\n",
       "      <td>712.0</td>\n",
       "      <td>0.132022</td>\n",
       "    </tr>\n",
       "    <tr>\n",
       "      <th>38</th>\n",
       "      <td>RI</td>\n",
       "      <td>25.0</td>\n",
       "      <td>165.0</td>\n",
       "      <td>190.0</td>\n",
       "      <td>0.131579</td>\n",
       "    </tr>\n",
       "    <tr>\n",
       "      <th>34</th>\n",
       "      <td>OH</td>\n",
       "      <td>153.0</td>\n",
       "      <td>1020.0</td>\n",
       "      <td>1173.0</td>\n",
       "      <td>0.130435</td>\n",
       "    </tr>\n",
       "    <tr>\n",
       "      <th>44</th>\n",
       "      <td>VA</td>\n",
       "      <td>176.0</td>\n",
       "      <td>1182.0</td>\n",
       "      <td>1358.0</td>\n",
       "      <td>0.129602</td>\n",
       "    </tr>\n",
       "    <tr>\n",
       "      <th>5</th>\n",
       "      <td>CO</td>\n",
       "      <td>97.0</td>\n",
       "      <td>659.0</td>\n",
       "      <td>756.0</td>\n",
       "      <td>0.128307</td>\n",
       "    </tr>\n",
       "    <tr>\n",
       "      <th>18</th>\n",
       "      <td>LA</td>\n",
       "      <td>53.0</td>\n",
       "      <td>367.0</td>\n",
       "      <td>420.0</td>\n",
       "      <td>0.126190</td>\n",
       "    </tr>\n",
       "    <tr>\n",
       "      <th>1</th>\n",
       "      <td>AL</td>\n",
       "      <td>54.0</td>\n",
       "      <td>378.0</td>\n",
       "      <td>432.0</td>\n",
       "      <td>0.125000</td>\n",
       "    </tr>\n",
       "    <tr>\n",
       "      <th>48</th>\n",
       "      <td>WV</td>\n",
       "      <td>21.0</td>\n",
       "      <td>151.0</td>\n",
       "      <td>172.0</td>\n",
       "      <td>0.122093</td>\n",
       "    </tr>\n",
       "    <tr>\n",
       "      <th>37</th>\n",
       "      <td>PA</td>\n",
       "      <td>178.0</td>\n",
       "      <td>1281.0</td>\n",
       "      <td>1459.0</td>\n",
       "      <td>0.122001</td>\n",
       "    </tr>\n",
       "    <tr>\n",
       "      <th>19</th>\n",
       "      <td>MA</td>\n",
       "      <td>156.0</td>\n",
       "      <td>1123.0</td>\n",
       "      <td>1279.0</td>\n",
       "      <td>0.121970</td>\n",
       "    </tr>\n",
       "    <tr>\n",
       "      <th>16</th>\n",
       "      <td>KS</td>\n",
       "      <td>31.0</td>\n",
       "      <td>224.0</td>\n",
       "      <td>255.0</td>\n",
       "      <td>0.121569</td>\n",
       "    </tr>\n",
       "    <tr>\n",
       "      <th>42</th>\n",
       "      <td>TX</td>\n",
       "      <td>313.0</td>\n",
       "      <td>2315.0</td>\n",
       "      <td>2628.0</td>\n",
       "      <td>0.119102</td>\n",
       "    </tr>\n",
       "    <tr>\n",
       "      <th>41</th>\n",
       "      <td>TN</td>\n",
       "      <td>2.0</td>\n",
       "      <td>15.0</td>\n",
       "      <td>17.0</td>\n",
       "      <td>0.117647</td>\n",
       "    </tr>\n",
       "    <tr>\n",
       "      <th>2</th>\n",
       "      <td>AR</td>\n",
       "      <td>27.0</td>\n",
       "      <td>208.0</td>\n",
       "      <td>235.0</td>\n",
       "      <td>0.114894</td>\n",
       "    </tr>\n",
       "    <tr>\n",
       "      <th>45</th>\n",
       "      <td>VT</td>\n",
       "      <td>6.0</td>\n",
       "      <td>47.0</td>\n",
       "      <td>53.0</td>\n",
       "      <td>0.113208</td>\n",
       "    </tr>\n",
       "    <tr>\n",
       "      <th>8</th>\n",
       "      <td>DE</td>\n",
       "      <td>12.0</td>\n",
       "      <td>101.0</td>\n",
       "      <td>113.0</td>\n",
       "      <td>0.106195</td>\n",
       "    </tr>\n",
       "    <tr>\n",
       "      <th>25</th>\n",
       "      <td>MS</td>\n",
       "      <td>2.0</td>\n",
       "      <td>17.0</td>\n",
       "      <td>19.0</td>\n",
       "      <td>0.105263</td>\n",
       "    </tr>\n",
       "    <tr>\n",
       "      <th>7</th>\n",
       "      <td>DC</td>\n",
       "      <td>15.0</td>\n",
       "      <td>196.0</td>\n",
       "      <td>211.0</td>\n",
       "      <td>0.071090</td>\n",
       "    </tr>\n",
       "    <tr>\n",
       "      <th>49</th>\n",
       "      <td>WY</td>\n",
       "      <td>4.0</td>\n",
       "      <td>76.0</td>\n",
       "      <td>80.0</td>\n",
       "      <td>0.050000</td>\n",
       "    </tr>\n",
       "    <tr>\n",
       "      <th>21</th>\n",
       "      <td>ME</td>\n",
       "      <td>0.0</td>\n",
       "      <td>3.0</td>\n",
       "      <td>3.0</td>\n",
       "      <td>0.000000</td>\n",
       "    </tr>\n",
       "    <tr>\n",
       "      <th>15</th>\n",
       "      <td>IN</td>\n",
       "      <td>0.0</td>\n",
       "      <td>9.0</td>\n",
       "      <td>9.0</td>\n",
       "      <td>0.000000</td>\n",
       "    </tr>\n",
       "    <tr>\n",
       "      <th>12</th>\n",
       "      <td>IA</td>\n",
       "      <td>0.0</td>\n",
       "      <td>5.0</td>\n",
       "      <td>5.0</td>\n",
       "      <td>0.000000</td>\n",
       "    </tr>\n",
       "  </tbody>\n",
       "</table>\n",
       "</div>"
      ],
      "text/plain": [
       "loan_status addr_state  Charged Off  Fully Paid   Total  Chargedoff_Proportion\n",
       "28                  NE          3.0         2.0     5.0               0.600000\n",
       "32                  NV        107.0       368.0   475.0               0.225263\n",
       "40                  SD         12.0        50.0    62.0               0.193548\n",
       "0                   AK         14.0        63.0    77.0               0.181818\n",
       "9                   FL        497.0      2252.0  2749.0               0.180793\n",
       "24                  MO        114.0       551.0   665.0               0.171429\n",
       "11                  HI         28.0       138.0   166.0               0.168675\n",
       "31                  NM         30.0       149.0   179.0               0.167598\n",
       "13                  ID          1.0         5.0     6.0               0.166667\n",
       "36                  OR         71.0       364.0   435.0               0.163218\n",
       "4                   CA       1116.0      5766.0  6882.0               0.162162\n",
       "20                  MD        161.0       849.0  1010.0               0.159406\n",
       "10                  GA        215.0      1134.0  1349.0               0.159377\n",
       "43                  UT         40.0       211.0   251.0               0.159363\n",
       "30                  NJ        277.0      1490.0  1767.0               0.156763\n",
       "46                  WA        127.0       684.0   811.0               0.156597\n",
       "27                  NC        114.0       629.0   743.0               0.153432\n",
       "29                  NH         25.0       139.0   164.0               0.152439\n",
       "22                  MI        102.0       596.0   698.0               0.146132\n",
       "39                  SC         66.0       389.0   455.0               0.145055\n",
       "17                  KY         45.0       266.0   311.0               0.144695\n",
       "3                   AZ        121.0       718.0   839.0               0.144219\n",
       "47                  WI         63.0       376.0   439.0               0.143508\n",
       "35                  OK         40.0       246.0   286.0               0.139860\n",
       "14                  IL        196.0      1262.0  1458.0               0.134431\n",
       "23                  MN         81.0       522.0   603.0               0.134328\n",
       "33                  NY        488.0      3156.0  3644.0               0.133919\n",
       "26                  MT         11.0        72.0    83.0               0.132530\n",
       "6                   CT         94.0       618.0   712.0               0.132022\n",
       "38                  RI         25.0       165.0   190.0               0.131579\n",
       "34                  OH        153.0      1020.0  1173.0               0.130435\n",
       "44                  VA        176.0      1182.0  1358.0               0.129602\n",
       "5                   CO         97.0       659.0   756.0               0.128307\n",
       "18                  LA         53.0       367.0   420.0               0.126190\n",
       "1                   AL         54.0       378.0   432.0               0.125000\n",
       "48                  WV         21.0       151.0   172.0               0.122093\n",
       "37                  PA        178.0      1281.0  1459.0               0.122001\n",
       "19                  MA        156.0      1123.0  1279.0               0.121970\n",
       "16                  KS         31.0       224.0   255.0               0.121569\n",
       "42                  TX        313.0      2315.0  2628.0               0.119102\n",
       "41                  TN          2.0        15.0    17.0               0.117647\n",
       "2                   AR         27.0       208.0   235.0               0.114894\n",
       "45                  VT          6.0        47.0    53.0               0.113208\n",
       "8                   DE         12.0       101.0   113.0               0.106195\n",
       "25                  MS          2.0        17.0    19.0               0.105263\n",
       "7                   DC         15.0       196.0   211.0               0.071090\n",
       "49                  WY          4.0        76.0    80.0               0.050000\n",
       "21                  ME          0.0         3.0     3.0               0.000000\n",
       "15                  IN          0.0         9.0     9.0               0.000000\n",
       "12                  IA          0.0         5.0     5.0               0.000000"
      ]
     },
     "execution_count": 44,
     "metadata": {},
     "output_type": "execute_result"
    }
   ],
   "source": [
    "#Analysing State wise Vs Charge Off data\n",
    "State_Vs_Charge_Off = loan_data.groupby(['addr_state', 'loan_status']).loan_status.count().unstack().fillna(0).reset_index()\n",
    "State_Vs_Charge_Off['Total'] =State_Vs_Charge_Off['Charged Off']+State_Vs_Charge_Off['Fully Paid'] \n",
    "State_Vs_Charge_Off['Chargedoff_Proportion'] = State_Vs_Charge_Off['Charged Off']/State_Vs_Charge_Off['Total']\n",
    "State_Vs_Charge_Off.sort_values('Chargedoff_Proportion', ascending=False)"
   ]
  },
  {
   "cell_type": "code",
   "execution_count": 45,
   "id": "08458193",
   "metadata": {},
   "outputs": [
    {
     "data": {
      "image/png": "[encoded data removed]",
      "text/plain": [
       "<Figure size 1080x360 with 1 Axes>"
      ]
     },
     "metadata": {
      "needs_background": "light"
     },
     "output_type": "display_data"
    }
   ],
   "source": [
    "plt.figure(figsize=(15,5))\n",
    "sns.barplot(x='addr_state', y='Chargedoff_Proportion', data=State_Vs_Charge_Off)\n",
    "plt.show()"
   ]
  },
  {
   "cell_type": "markdown",
   "id": "ce73ead6",
   "metadata": {},
   "source": [
    "##### State \"NE\" has a dramatically 3 times higher charge off rate as compared to the other states.\n",
    "##### Providing loans to this state must be avoided or if planned there should be strict background check."
   ]
  },
  {
   "cell_type": "code",
   "execution_count": null,
   "id": "e2dde136",
   "metadata": {},
   "outputs": [],
   "source": []
  }
 ],
 "metadata": {
  "kernelspec": {
   "display_name": "Python 3",
   "language": "python",
   "name": "python3"
  },
  "language_info": {
   "codemirror_mode": {
    "name": "ipython",
    "version": 3
   },
   "file_extension": ".py",
   "mimetype": "text/x-python",
   "name": "python",
   "nbconvert_exporter": "python",
   "pygments_lexer": "ipython3",
   "version": "3.8.8"
  }
 },
 "nbformat": 4,
 "nbformat_minor": 5
}
